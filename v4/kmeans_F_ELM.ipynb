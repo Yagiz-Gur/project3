{
 "cells": [
  {
   "cell_type": "markdown",
   "metadata": {},
   "source": [
    "# Kmeans + ELM"
   ]
  },
  {
   "cell_type": "code",
   "execution_count": null,
   "metadata": {},
   "outputs": [
    {
     "name": "stdout",
     "output_type": "stream",
     "text": [
      "mccinfo değeri bulunamadığı için silinecek satır sayısı: 15\n"
     ]
    }
   ],
   "source": [
    "import pandas as pd\n",
    "import numpy as np\n",
    "import re\n",
    "import matplotlib.pyplot as plt\n",
    "from sklearn.preprocessing import LabelEncoder, MinMaxScaler\n",
    "from sklearn.model_selection import KFold, cross_val_predict\n",
    "from sklearn.metrics import mean_absolute_error, mean_absolute_percentage_error, r2_score\n",
    "from sklearn.cluster import KMeans\n",
    "from sklearn.feature_selection import SelectKBest, f_regression\n",
    "from sklearn.pipeline import Pipeline\n",
    "from sklearn.base import BaseEstimator, RegressorMixin\n",
    "\n",
    "df = pd.read_excel(\"dataset.xlsx\")\n",
    "df.drop(columns=[\"Seli\", \"Tarih\"], inplace=True, errors='ignore')\n",
    "\n",
    "# mccinfo sütunundan dört haneli değeri çekmek için fonksiyon\n",
    "def extract_mcc(value):\n",
    "    if pd.isnull(value):\n",
    "        return np.nan\n",
    "    match = re.match(r\"(\\d{4})-\", value)\n",
    "    if match:\n",
    "        return match.group(1)\n",
    "    else:\n",
    "        return np.nan\n",
    "\n",
    "df['mccinfo'] = df['mccinfo'].apply(extract_mcc)\n",
    "num_missing_mcc = df['mccinfo'].isnull().sum()\n",
    "print(f\"mccinfo değeri bulunamadığı için silinecek satır sayısı: {num_missing_mcc}\")\n",
    "df = df.dropna(subset=['mccinfo'])\n",
    "\n",
    "\n",
    "numeric_columns = [\n",
    "    \"bıst100_Kapanış\", \"bıst100_Açılış\", \"bıst100_Yüksek\", \"bıst100_Düşük\",\n",
    "    \"Euro_Kapanış\", \"Euro_Açılış\", \"Euro_Yüksek\", \"Euro_Düşük\",\n",
    "    \"USD_Kapanış\", \"USD_Açılış\", \"USD_Yüksek\", \"USD_Düşük\",\n",
    "]\n",
    "\n",
    "def fix_numeric_value(s):\n",
    "    s = s.replace(',', '.')\n",
    "    if s.count('.') > 1:\n",
    "        second_dot = s.find('.', s.find('.') + 1)\n",
    "        s = s[:second_dot]\n",
    "    return s\n",
    "\n",
    "for col in numeric_columns:\n",
    "    df[col] = df[col].astype(str).apply(fix_numeric_value)\n",
    "    df[col] = df[col].astype(float)\n",
    "\n",
    "categorical_columns = [\"Şehir\", \"İlçe\", \"mccinfo\"]\n",
    "le = LabelEncoder()\n",
    "for col in categorical_columns:\n",
    "    df[col] = le.fit_transform(df[col])\n",
    "\n",
    "# Hedef ve özniteliklerin ayrılması\n",
    "target = \"Tek Çekim Komisyon Oranı (Güncel)\"\n",
    "X = df.drop(columns=[target])\n",
    "y = df[target]\n"
   ]
  },
  {
   "cell_type": "code",
   "execution_count": null,
   "metadata": {},
   "outputs": [
    {
     "name": "stdout",
     "output_type": "stream",
     "text": [
      "Kümeleme işlemi tamamlandı. Küme dağılımı:\n",
      "1    520\n",
      "0    385\n",
      "3    341\n",
      "2    170\n",
      "5    158\n",
      "4    118\n",
      "Name: count, dtype: int64\n"
     ]
    },
    {
     "name": "stderr",
     "output_type": "stream",
     "text": [
      "c:\\Users\\yagiz\\anaconda3\\envs\\img\\lib\\site-packages\\sklearn\\cluster\\_kmeans.py:1429: UserWarning: KMeans is known to have a memory leak on Windows with MKL, when there are less chunks than available threads. You can avoid it by setting the environment variable OMP_NUM_THREADS=7.\n",
      "  warnings.warn(\n"
     ]
    }
   ],
   "source": [
    "\n",
    "scaler = MinMaxScaler()\n",
    "X_scaled = scaler.fit_transform(X)\n",
    "X_scaled = pd.DataFrame(X_scaled, index=X.index, columns=X.columns)\n",
    "\n",
    "\n",
    "n_clusters = 6  #\n",
    "kmeans = KMeans(n_clusters=n_clusters, random_state=42)\n",
    "clusters = kmeans.fit_predict(X_scaled)\n",
    "\n",
    "# Küme bilgilerini ölçeklendirilmiş veri setine ekliyoruz.\n",
    "X_scaled['Cluster'] = clusters\n",
    "\n",
    "print(\"Kümeleme işlemi tamamlandı. Küme dağılımı:\")\n",
    "print(pd.Series(clusters).value_counts())\n"
   ]
  },
  {
   "cell_type": "code",
   "execution_count": null,
   "metadata": {},
   "outputs": [],
   "source": [
    "# ELM Regressor Modeli\n",
    "class ELMRegressor(BaseEstimator, RegressorMixin):\n",
    "    def __init__(self, n_hidden=50, activation='sigmoid', random_state=42):\n",
    "        self.n_hidden = n_hidden\n",
    "        self.activation = activation\n",
    "        self.random_state = random_state\n",
    "\n",
    "    def _activation(self, x):\n",
    "        if self.activation == 'sigmoid':\n",
    "            return 1 / (1 + np.exp(-x))\n",
    "        elif self.activation == 'relu':\n",
    "            return np.maximum(0, x)\n",
    "        elif self.activation == 'tanh':\n",
    "            return np.tanh(x)\n",
    "        else:\n",
    "            raise ValueError(\"Bilinmeyen aktivasyon fonksiyonu.\")\n",
    "\n",
    "    def fit(self, X, y):\n",
    "        n_samples, n_features = X.shape\n",
    "        rng = np.random.RandomState(self.random_state)\n",
    "\n",
    "        # Rastgele input ağırlıkları ve bias değerleri oluşturuluyor\n",
    "        self.input_weights_ = rng.randn(n_features, self.n_hidden)\n",
    "        self.bias_ = rng.randn(self.n_hidden)\n",
    "\n",
    "        # Gizli katmanın çıktısı hesaplanıyor\n",
    "        H = self._activation(np.dot(X, self.input_weights_) + self.bias_)\n",
    "\n",
    "        # Çıkış ağırlıklar çözümleniyor\n",
    "        self.beta_ = np.linalg.pinv(H).dot(y)\n",
    "        return self\n",
    "\n",
    "    def predict(self, X):\n",
    "        H = self._activation(np.dot(X, self.input_weights_) + self.bias_)\n",
    "        return np.dot(H, self.beta_)\n"
   ]
  },
  {
   "cell_type": "code",
   "execution_count": 57,
   "metadata": {},
   "outputs": [
    {
     "name": "stdout",
     "output_type": "stream",
     "text": [
      "\n",
      "Cluster 0 için model eğitimi başlatılıyor...\n",
      "Cluster 0 sonuçları:\n",
      "MAE: 18.9981\n",
      "MAPE: 5.0891\n",
      "R2: -284822.9034\n",
      "\n",
      "Cluster 1 için model eğitimi başlatılıyor...\n",
      "Cluster 1 sonuçları:\n",
      "MAE: 0.5291\n",
      "MAPE: 0.1283\n",
      "R2: -3.2047\n",
      "\n",
      "Cluster 2 için model eğitimi başlatılıyor...\n",
      "Cluster 2 sonuçları:\n",
      "MAE: 1.8754\n",
      "MAPE: 0.6394\n",
      "R2: -313.8136\n",
      "\n",
      "Cluster 3 için model eğitimi başlatılıyor...\n",
      "Cluster 3 sonuçları:\n",
      "MAE: 1.6012\n",
      "MAPE: 0.4679\n",
      "R2: -267.8608\n",
      "\n",
      "Cluster 4 için model eğitimi başlatılıyor...\n",
      "Cluster 4 sonuçları:\n",
      "MAE: 2.3074\n",
      "MAPE: 0.6228\n",
      "R2: -78.2516\n",
      "\n",
      "Cluster 5 için model eğitimi başlatılıyor...\n",
      "Cluster 5 sonuçları:\n",
      "MAE: 0.7654\n",
      "MAPE: 0.1848\n",
      "R2: -2.7945\n",
      "\n",
      "Tüm kümeler için model sonuçları:\n",
      "{0: {'MAE': 18.99812410483814, 'MAPE': 5.089057930975547, 'R2': -284822.9033818389}, 1: {'MAE': 0.5290979104407894, 'MAPE': 0.12831187983724446, 'R2': -3.2046656378878513}, 2: {'MAE': 1.8753629330123616, 'MAPE': 0.6394484823083647, 'R2': -313.813550963779}, 3: {'MAE': 1.601232614009574, 'MAPE': 0.46792063754782837, 'R2': -267.8608279056114}, 4: {'MAE': 2.307429123606637, 'MAPE': 0.6228232520394469, 'R2': -78.25156670276664}, 5: {'MAE': 0.7654160120877992, 'MAPE': 0.18478264232912106, 'R2': -2.794526617863301}}\n",
      "\n",
      "Genel model sonuçları:\n",
      "Genel MAE: 5.2290\n",
      "Genel MAPE: 1.4166\n",
      "Genel R2: -47988.7928\n"
     ]
    }
   ],
   "source": [
    "all_predictions = pd.Series(index=y.index, dtype=float)\n",
    "cluster_metrics = {}\n",
    "\n",
    "for cluster in np.unique(clusters):\n",
    "    print(f\"\\nCluster {cluster} için model eğitimi başlatılıyor...\")\n",
    " \n",
    "    cluster_mask = X_scaled['Cluster'] == cluster\n",
    "    X_cluster = X_scaled.loc[cluster_mask].drop(columns=['Cluster'])\n",
    "    y_cluster = y.loc[cluster_mask]\n",
    "    \n",
    " \n",
    "    if len(X_cluster) < 10:\n",
    "        print(f\"Uyarı: Cluster {cluster} için örnek sayısı {len(X_cluster)}, CV kat sayısı örnek sayısına göre ayarlanıyor.\")\n",
    "        kf = KFold(n_splits=len(X_cluster), shuffle=True, random_state=42)\n",
    "    else:\n",
    "        kf = KFold(n_splits=10, shuffle=True, random_state=42)\n",
    "    \n",
    "    pipeline = Pipeline([\n",
    "        ('feature_selection', SelectKBest(score_func=f_regression, k=10)),\n",
    "        ('elm', ELMRegressor(n_hidden=50, activation='sigmoid', random_state=42))\n",
    "    ])\n",
    "    \n",
    "    \n",
    "    y_pred_cluster = cross_val_predict(pipeline, X_cluster, y_cluster, cv=kf)\n",
    "    \n",
    "    \n",
    "    mae = mean_absolute_error(y_cluster, y_pred_cluster)\n",
    "    mape = mean_absolute_percentage_error(y_cluster, y_pred_cluster)\n",
    "    r2 = r2_score(y_cluster, y_pred_cluster)\n",
    "    \n",
    "    cluster_metrics[cluster] = {'MAE': mae, 'MAPE': mape, 'R2': r2}\n",
    "    print(f\"Cluster {cluster} sonuçları:\")\n",
    "    print(f\"MAE: {mae:.4f}\")\n",
    "    print(f\"MAPE: {mape:.4f}\")\n",
    "    print(f\"R2: {r2:.4f}\")\n",
    "    \n",
    "    # Bu kümedeki tahminleri orijinal indeksleriyle saklıyoruz\n",
    "    all_predictions.loc[cluster_mask] = y_pred_cluster\n",
    "\n",
    "print(\"\\nTüm kümeler için model sonuçları:\")\n",
    "print(cluster_metrics)\n",
    "\n",
    "\n",
    "\n",
    "overall_mae = mean_absolute_error(y, all_predictions)\n",
    "overall_mape = mean_absolute_percentage_error(y, all_predictions)\n",
    "overall_r2 = r2_score(y, all_predictions)\n",
    "\n",
    "print(\"\\nGenel model sonuçları:\")\n",
    "print(f\"Genel MAE: {overall_mae:.4f}\")\n",
    "print(f\"Genel MAPE: {overall_mape:.4f}\")\n",
    "print(f\"Genel R2: {overall_r2:.4f}\")\n",
    "\n"
   ]
  },
  {
   "cell_type": "code",
   "execution_count": 58,
   "metadata": {},
   "outputs": [
    {
     "data": {
      "image/png": "[encoded data removed]",
      "text/plain": [
       "<Figure size 1400x700 with 1 Axes>"
      ]
     },
     "metadata": {},
     "output_type": "display_data"
    }
   ],
   "source": [
    "\n",
    "plt.figure(figsize=(14,7))\n",
    "plt.scatter(np.arange(len(y)), y, label=\"Gerçek Değerler\", marker=\"o\")\n",
    "plt.plot(np.arange(len(y)), all_predictions.sort_index(), label=\"Tahmin Edilen Değerler\", marker=\"x\", color=\"red\", linestyle=\"-\")\n",
    "plt.xlabel(\"Örnek Index\")\n",
    "plt.ylabel(\"Değer\")\n",
    "plt.title(\"Gerçek ve Tahmin Edilen Değerler (F Regresyon + KMeans, ELMRegressor)\")\n",
    "plt.legend()\n",
    "plt.grid(True)\n",
    "plt.show()\n"
   ]
  },
  {
   "cell_type": "code",
   "execution_count": null,
   "metadata": {},
   "outputs": [],
   "source": []
  },
  {
   "cell_type": "code",
   "execution_count": null,
   "metadata": {},
   "outputs": [],
   "source": []
  }
 ],
 "metadata": {
  "kernelspec": {
   "display_name": "img",
   "language": "python",
   "name": "python3"
  },
  "language_info": {
   "codemirror_mode": {
    "name": "ipython",
    "version": 3
   },
   "file_extension": ".py",
   "mimetype": "text/x-python",
   "name": "python",
   "nbconvert_exporter": "python",
   "pygments_lexer": "ipython3",
   "version": "3.9.21"
  }
 },
 "nbformat": 4,
 "nbformat_minor": 2
}
